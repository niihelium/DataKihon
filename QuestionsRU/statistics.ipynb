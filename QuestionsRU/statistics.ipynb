{
 "metadata": {
  "orig_nbformat": 2,
  "kernelspec": {
   "name": "python3",
   "display_name": "Python 3",
   "language": "python"
  }
 },
 "nbformat": 4,
 "nbformat_minor": 2,
 "cells": [
  {
   "source": [
    "# Статистика\n",
    "- Нормальное распределение\n",
    "- Стандартное отклонение"
   ],
   "cell_type": "markdown",
   "metadata": {}
  },
  {
   "source": [
    "- Вероятность"
   ],
   "cell_type": "markdown",
   "metadata": {}
  },
  {
   "source": [
    "## Среднее\n",
    "\n",
    "Числовая характеристика некоторого множества числел, заключенная в интервале между наименьшим и наибольшим значением. Обозначается как $\\overline x$ или $<x>$\n",
    "\n"
   ],
   "cell_type": "markdown",
   "metadata": {}
  },
  {
   "source": [
    "### Среднее арифметическое\n",
    "\n",
    "число, равное сумме всех чисел множества, делённой на их количество."
   ],
   "cell_type": "markdown",
   "metadata": {}
  },
  {
   "cell_type": "code",
   "execution_count": 3,
   "metadata": {},
   "outputs": [
    {
     "output_type": "execute_result",
     "data": {
      "text/plain": [
       "3.0"
      ]
     },
     "metadata": {},
     "execution_count": 3
    }
   ],
   "source": [
    "import numpy as np\n",
    "\n",
    "values = np.array([1, 2, 3, 4, 5])\n",
    "values.mean()"
   ]
  },
  {
   "source": [
    "### Среднее квадратическое (квадратичное)\n",
    "\n",
    "число, равное квадрат квадратному корню из среднего квадратов всех чисел множества"
   ],
   "cell_type": "markdown",
   "metadata": {}
  },
  {
   "cell_type": "code",
   "execution_count": 6,
   "metadata": {},
   "outputs": [
    {
     "output_type": "execute_result",
     "data": {
      "text/plain": [
       "3.3166247903554"
      ]
     },
     "metadata": {},
     "execution_count": 6
    }
   ],
   "source": [
    "from numpy import mean, sqrt, square\n",
    "\n",
    "sqrt(mean(square(values)))"
   ]
  },
  {
   "cell_type": "code",
   "execution_count": null,
   "metadata": {},
   "outputs": [],
   "source": []
  }
 ]
}